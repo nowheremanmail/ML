{
  "nbformat": 4,
  "nbformat_minor": 0,
  "metadata": {
    "colab": {
      "name": "pypthon recomendador",
      "provenance": [],
      "collapsed_sections": [],
      "authorship_tag": "ABX9TyPRAjq+jlSpqnTS7TseqKCu",
      "include_colab_link": true
    },
    "kernelspec": {
      "name": "python3",
      "display_name": "Python 3"
    }
  },
  "cells": [
    {
      "cell_type": "markdown",
      "metadata": {
        "id": "view-in-github",
        "colab_type": "text"
      },
      "source": [
        "<a href=\"https://colab.research.google.com/github/nowheremanmail/ML/blob/master/pypthon_recomendador.ipynb\" target=\"_parent\"><img src=\"https://colab.research.google.com/assets/colab-badge.svg\" alt=\"Open In Colab\"/></a>"
      ]
    },
    {
      "cell_type": "code",
      "metadata": {
        "id": "0-cLYJUkhd_I",
        "colab_type": "code",
        "outputId": "cb4cbd8e-b550-4853-93a7-479fe4b1d157",
        "colab": {
          "base_uri": "https://localhost:8080/",
          "height": 207
        }
      },
      "source": [
        "!pip3 install vowpalwabbit"
      ],
      "execution_count": 0,
      "outputs": [
        {
          "output_type": "stream",
          "text": [
            "Collecting vowpalwabbit\n",
            "\u001b[?25l  Downloading https://files.pythonhosted.org/packages/26/65/833b79b0e968dfe988e7cea5ff730004d3b6cf05786228e94cf0b6037cf5/vowpalwabbit-8.8.1.tar.gz (3.1MB)\n",
            "\u001b[K     |████████████████████████████████| 3.1MB 2.8MB/s \n",
            "\u001b[?25hBuilding wheels for collected packages: vowpalwabbit\n",
            "  Building wheel for vowpalwabbit (setup.py) ... \u001b[?25l\u001b[?25hdone\n",
            "  Created wheel for vowpalwabbit: filename=vowpalwabbit-8.8.1-cp36-cp36m-linux_x86_64.whl size=1675346 sha256=e62c3442e25cd63c88f0f27a225b33ef212be98a3feab18ede8e0dfefbfd4b39\n",
            "  Stored in directory: /root/.cache/pip/wheels/17/41/59/fbefa702042c4a9ca33a87c7a3f49328bdfc664dd56466561b\n",
            "Successfully built vowpalwabbit\n",
            "Installing collected packages: vowpalwabbit\n",
            "Successfully installed vowpalwabbit-8.8.1\n"
          ],
          "name": "stdout"
        }
      ]
    },
    {
      "cell_type": "code",
      "metadata": {
        "id": "QlYdkIA8iXsf",
        "colab_type": "code",
        "colab": {}
      },
      "source": [
        "import pandas as pd\n",
        "import sklearn as sk\n",
        "import numpy as np\n",
        "import random\n",
        "import matplotlib.pyplot as plt\n",
        "from vowpalwabbit import pyvw"
      ],
      "execution_count": 0,
      "outputs": []
    },
    {
      "cell_type": "code",
      "metadata": {
        "id": "A6azmdveig68",
        "colab_type": "code",
        "colab": {}
      },
      "source": [
        "model = pyvw.vw(quiet=True)"
      ],
      "execution_count": 0,
      "outputs": []
    },
    {
      "cell_type": "code",
      "metadata": {
        "id": "gHOQJ0Txih64",
        "colab_type": "code",
        "colab": {}
      },
      "source": [
        "train_examples = [\n",
        "  \"0 | price:.23 sqft:.25 age:.05 2006\",\n",
        "  \"1 | price:.18 sqft:.15 age:.35 1976\",\n",
        "  \"0 | price:.53 sqft:.32 age:.87 1924\",\n",
        "]\n",
        "\n",
        "for example in train_examples:\n",
        "    model.learn(example)"
      ],
      "execution_count": 0,
      "outputs": []
    },
    {
      "cell_type": "code",
      "metadata": {
        "id": "guTePyhqik8B",
        "colab_type": "code",
        "outputId": "66705d72-a5eb-466e-ecdb-0c9167c8f48d",
        "colab": {
          "base_uri": "https://localhost:8080/",
          "height": 34
        }
      },
      "source": [
        "test_example = \"| price:.46 sqft:.4 age:.10 1924\"\n",
        "\n",
        "prediction = model.predict(test_example)\n",
        "print(prediction)"
      ],
      "execution_count": 0,
      "outputs": [
        {
          "output_type": "stream",
          "text": [
            "0.0\n"
          ],
          "name": "stdout"
        }
      ]
    },
    {
      "cell_type": "code",
      "metadata": {
        "id": "YbxkKzDOnAZ1",
        "colab_type": "code",
        "colab": {}
      },
      "source": [
        "# VW tries to minimize loss/cost, therefore we will pass cost as -reward\n",
        "USER_LIKED_ARTICLE = -1.0\n",
        "USER_DISLIKED_ARTICLE = 0.0\n",
        "\n",
        "\n",
        "\n",
        "\n"
      ],
      "execution_count": 0,
      "outputs": []
    },
    {
      "cell_type": "code",
      "metadata": {
        "id": "-l0HVguHrvdC",
        "colab_type": "code",
        "colab": {}
      },
      "source": [
        "\n",
        "# This function modifies (context, action, cost, probability) to VW friendly format\n",
        "def to_vw_example_format(context, actions, cb_label = None):\n",
        "    if cb_label is not None:\n",
        "        chosen_action, cost, prob = cb_label\n",
        "    example_string = \"\"\n",
        "    example_string += \"shared |User user={} time_of_day={}\\n\".format(context[\"user\"], context[\"time_of_day\"])\n",
        "    for action in actions:\n",
        "        if cb_label is not None and action == chosen_action:\n",
        "            example_string += \"0:{}:{} \".format(cost, prob)\n",
        "        example_string += \"|Action article={} \\n\".format(action)\n",
        "    #Strip the last newline\n",
        "    return example_string[:-1]"
      ],
      "execution_count": 0,
      "outputs": []
    },
    {
      "cell_type": "code",
      "metadata": {
        "id": "c87O0xHwrtie",
        "colab_type": "code",
        "colab": {}
      },
      "source": [
        "def get_cost(context,action):\n",
        "    if context['user'] == \"Tom\":\n",
        "        if context['time_of_day'] == \"morning\" and action == 'politics':\n",
        "            return USER_LIKED_ARTICLE\n",
        "        elif context['time_of_day'] == \"afternoon\" and action == 'music':\n",
        "            return USER_LIKED_ARTICLE\n",
        "        else:\n",
        "            return USER_DISLIKED_ARTICLE\n",
        "    elif context['user'] == \"Anna\":\n",
        "        if context['time_of_day'] == \"morning\" and action == 'sports':\n",
        "            return USER_LIKED_ARTICLE\n",
        "        elif context['time_of_day'] == \"afternoon\" and action == 'politics':\n",
        "            return USER_LIKED_ARTICLE\n",
        "        else:\n",
        "            return USER_DISLIKED_ARTICLE"
      ],
      "execution_count": 0,
      "outputs": []
    },
    {
      "cell_type": "code",
      "metadata": {
        "id": "cRXFv631nJEU",
        "colab_type": "code",
        "outputId": "0eca4432-8dc1-4f29-b73e-0e803c38609b",
        "colab": {
          "base_uri": "https://localhost:8080/",
          "height": 102
        }
      },
      "source": [
        "context = {\"user\":\"Tom\",\"time_of_day\":\"morning\"}\n",
        "actions = [\"politics\", \"sports\", \"music\", \"food\"]\n",
        "\n",
        "print(to_vw_example_format(context,actions))\n",
        "\n",
        "\n",
        "\n",
        "\n",
        "\n",
        "\n",
        "\n"
      ],
      "execution_count": 0,
      "outputs": [
        {
          "output_type": "stream",
          "text": [
            "shared |User user=Tom time_of_day=morning\n",
            "|Action article=politics \n",
            "|Action article=sports \n",
            "|Action article=music \n",
            "|Action article=food \n"
          ],
          "name": "stdout"
        }
      ]
    },
    {
      "cell_type": "code",
      "metadata": {
        "id": "8ZH4m7Dor5tK",
        "colab_type": "code",
        "colab": {}
      },
      "source": [
        "def sample_custom_pmf(pmf):\n",
        "    total = sum(pmf)\n",
        "    scale = 1 / total\n",
        "    pmf = [x * scale for x in pmf]\n",
        "    draw = random.random()\n",
        "    sum_prob = 0.0\n",
        "    for index, prob in enumerate(pmf):\n",
        "        sum_prob += prob\n",
        "        if(sum_prob > draw):\n",
        "            return index, prob\n"
      ],
      "execution_count": 0,
      "outputs": []
    },
    {
      "cell_type": "code",
      "metadata": {
        "id": "ebRGHGJrr4U0",
        "colab_type": "code",
        "colab": {}
      },
      "source": [
        "\n",
        "\n",
        "def get_action(vw, context, actions):\n",
        "    vw_text_example = to_vw_example_format(context,actions)\n",
        "    pmf = vw.predict(vw_text_example)\n",
        "    chosen_action_index, prob = sample_custom_pmf(pmf)\n",
        "    return actions[chosen_action_index], prob"
      ],
      "execution_count": 0,
      "outputs": []
    },
    {
      "cell_type": "code",
      "metadata": {
        "id": "pze1Zvqhrzna",
        "colab_type": "code",
        "colab": {}
      },
      "source": [
        "users = ['Tom', 'Anna']\n",
        "times_of_day = ['morning', 'afternoon']\n",
        "actions = [\"politics\", \"sports\", \"music\", \"food\", \"finance\", \"health\", \"camping\"]\n",
        "\n",
        "def choose_user(users):\n",
        "    return random.choice(users)\n",
        "\n",
        "def choose_time_of_day(times_of_day):\n",
        "    return random.choice(times_of_day)\n",
        "\n",
        "def run_simulation(vw, num_iterations, users, times_of_day, actions, cost_function, do_learn = True):\n",
        "    cost_sum = 0.\n",
        "    ctr = []\n",
        "\n",
        "    for i in range(1, num_iterations+1):\n",
        "        # 1. In each simulation choose a user\n",
        "        user = choose_user(users)\n",
        "        # 2. Choose time of day for a given user\n",
        "        time_of_day = choose_time_of_day(times_of_day)\n",
        "\n",
        "        # 3. Pass context to vw to get an action\n",
        "        context = {'user': user, 'time_of_day': time_of_day}\n",
        "        action, prob = get_action(vw, context, actions)\n",
        "\n",
        "        # 4. Get cost of the action we chose\n",
        "        cost = cost_function(context, action)\n",
        "        cost_sum += cost\n",
        "\n",
        "        if do_learn:\n",
        "            # 5. Inform VW of what happened so we can learn from it\n",
        "            vw_format = vw.parse(to_vw_example_format(context, actions, (action, cost, prob)),pyvw.vw.lContextualBandit)\n",
        "            # 6. Learn\n",
        "            vw.learn(vw_format)\n",
        "\n",
        "        # We negate this so that on the plot instead of minimizing cost, we are maximizing reward\n",
        "        ctr.append(-1*cost_sum/i)\n",
        "\n",
        "    return ctr"
      ],
      "execution_count": 0,
      "outputs": []
    },
    {
      "cell_type": "code",
      "metadata": {
        "id": "d2V7Lu1Arx8A",
        "colab_type": "code",
        "colab": {}
      },
      "source": [
        "\n",
        "def plot_ctr(num_iterations, ctr):\n",
        "    plt.plot(range(1,num_iterations+1), ctr)\n",
        "    plt.xlabel('num_iterations', fontsize=14)\n",
        "    plt.ylabel('ctr', fontsize=14)\n",
        "    plt.ylim([0,1])"
      ],
      "execution_count": 0,
      "outputs": []
    },
    {
      "cell_type": "code",
      "metadata": {
        "id": "qQ8NncW_n6V9",
        "colab_type": "code",
        "outputId": "4357d529-f472-4f19-f248-13a98ab6be0d",
        "colab": {
          "base_uri": "https://localhost:8080/",
          "height": 287
        }
      },
      "source": [
        "# Instantiate learner in VW\n",
        "vw = pyvw.vw(\"--cb_explore_adf -q UA --quiet --epsilon 0.2\")\n",
        "\n",
        "num_iterations = 5000\n",
        "ctr = run_simulation(vw, num_iterations, users, times_of_day, actions, get_cost)\n",
        "\n",
        "plot_ctr(num_iterations, ctr)"
      ],
      "execution_count": 0,
      "outputs": [
        {
          "output_type": "display_data",
          "data": {
            "image/png": "[encoded data removed]",
            "text/plain": [
              "<Figure size 432x288 with 1 Axes>"
            ]
          },
          "metadata": {
            "tags": [],
            "needs_background": "light"
          }
        }
      ]
    },
    {
      "cell_type": "code",
      "metadata": {
        "id": "RHoNatRzo2jD",
        "colab_type": "code",
        "colab": {}
      },
      "source": [
        "def get_cost_new1(context,action):\n",
        "    if context['user'] == \"Tom\":\n",
        "        if context['time_of_day'] == \"morning\" and action == 'politics':\n",
        "            return USER_LIKED_ARTICLE\n",
        "        elif context['time_of_day'] == \"afternoon\" and action == 'sports':\n",
        "            return USER_LIKED_ARTICLE\n",
        "        else:\n",
        "            return USER_DISLIKED_ARTICLE\n",
        "    elif context['user'] == \"Anna\":\n",
        "        if context['time_of_day'] == \"morning\" and action == 'sports':\n",
        "            return USER_LIKED_ARTICLE\n",
        "        elif context['time_of_day'] == \"afternoon\" and action == 'sports':\n",
        "            return USER_LIKED_ARTICLE\n",
        "        else:\n",
        "            return USER_DISLIKED_ARTICLE"
      ],
      "execution_count": 0,
      "outputs": []
    },
    {
      "cell_type": "code",
      "metadata": {
        "id": "MgHFrnXqo3PB",
        "colab_type": "code",
        "colab": {}
      },
      "source": [
        "def run_simulation_multiple_cost_functions(vw, num_iterations, users, times_of_day, actions, cost_functions, do_learn = True):\n",
        "    cost_sum = 0.\n",
        "    ctr = []\n",
        "\n",
        "    start_counter = 1\n",
        "    end_counter = start_counter + num_iterations\n",
        "    for cost_function in cost_functions:\n",
        "        for i in range(start_counter, end_counter):\n",
        "            # 1. in each simulation choose a user\n",
        "            user = choose_user(users)\n",
        "            # 2. choose time of day for a given user\n",
        "            time_of_day = choose_time_of_day(times_of_day)\n",
        "\n",
        "            # Construct context based on chosen user and time of day\n",
        "            context = {'user': user, 'time_of_day': time_of_day}\n",
        "\n",
        "            # 3. Use the get_action function we defined earlier\n",
        "            action, prob = get_action(vw, context, actions)\n",
        "\n",
        "            # 4. Get cost of the action we chose\n",
        "            cost = cost_function(context, action)\n",
        "            cost_sum += cost\n",
        "\n",
        "            if do_learn:\n",
        "                # 5. Inform VW of what happened so we can learn from it\n",
        "                vw_format = vw.parse(to_vw_example_format(context, actions, (action, cost, prob)),pyvw.vw.lContextualBandit)\n",
        "                # 6. Learn\n",
        "                vw.learn(vw_format)\n",
        "\n",
        "            # We negate this so that on the plot instead of minimizing cost, we are maximizing reward\n",
        "            ctr.append(-1*cost_sum/i)\n",
        "        start_counter = end_counter\n",
        "        end_counter = start_counter + num_iterations\n",
        "\n",
        "    return ctr"
      ],
      "execution_count": 0,
      "outputs": []
    },
    {
      "cell_type": "code",
      "metadata": {
        "id": "GKLFBHLHo8uH",
        "colab_type": "code",
        "outputId": "75aa7c91-040f-437c-afaf-6012f854fba4",
        "colab": {
          "base_uri": "https://localhost:8080/",
          "height": 287
        }
      },
      "source": [
        "# use first reward function initially and then switch to second reward function\n",
        "\n",
        "# Instantiate learner in VW\n",
        "vw = pyvw.vw(\"--cb_explore_adf -q UA --quiet --epsilon 0.2\")\n",
        "\n",
        "num_iterations_per_cost_func = 5000\n",
        "cost_functions = [get_cost, get_cost_new1]\n",
        "total_iterations = num_iterations_per_cost_func * len(cost_functions)\n",
        "\n",
        "ctr = run_simulation_multiple_cost_functions(vw, num_iterations_per_cost_func, users, times_of_day, actions, cost_functions)\n",
        "\n",
        "plot_ctr(total_iterations, ctr)"
      ],
      "execution_count": 0,
      "outputs": [
        {
          "output_type": "display_data",
          "data": {
            "image/png": "[encoded data removed]",
            "text/plain": [
              "<Figure size 432x288 with 1 Axes>"
            ]
          },
          "metadata": {
            "tags": [],
            "needs_background": "light"
          }
        }
      ]
    },
    {
      "cell_type": "code",
      "metadata": {
        "id": "lZbgkh5_pG2Z",
        "colab_type": "code",
        "colab": {}
      },
      "source": [
        "def get_cost_new2(context,action):\n",
        "    if context['user'] == \"Tom\":\n",
        "        if context['time_of_day'] == \"morning\" and action == 'politics':\n",
        "            return USER_LIKED_ARTICLE\n",
        "        elif context['time_of_day'] == \"afternoon\" and action == 'food':\n",
        "            return USER_LIKED_ARTICLE\n",
        "        else:\n",
        "            return USER_DISLIKED_ARTICLE\n",
        "    elif context['user'] == \"Anna\":\n",
        "        if context['time_of_day'] == \"morning\" and action == 'food':\n",
        "            return USER_LIKED_ARTICLE\n",
        "        elif context['time_of_day'] == \"afternoon\" and action == 'food':\n",
        "            return USER_LIKED_ARTICLE\n",
        "        else:\n",
        "            return USER_DISLIKED_ARTICLE"
      ],
      "execution_count": 0,
      "outputs": []
    },
    {
      "cell_type": "code",
      "metadata": {
        "id": "ozki0S5OpJnk",
        "colab_type": "code",
        "outputId": "77d8d503-d145-4a78-f9c2-87e8ec6a15e6",
        "colab": {
          "base_uri": "https://localhost:8080/",
          "height": 287
        }
      },
      "source": [
        "# use first reward function initially and then switch to third reward function\n",
        "\n",
        "# Instantiate learner in VW\n",
        "vw = pyvw.vw(\"--cb_explore_adf -q UA --quiet --epsilon 0.2\")\n",
        "\n",
        "num_iterations_per_cost_func = 5000\n",
        "cost_functions = [get_cost, get_cost_new2]\n",
        "total_iterations = num_iterations_per_cost_func * len(cost_functions)\n",
        "\n",
        "ctr = run_simulation_multiple_cost_functions(vw, num_iterations_per_cost_func, users, times_of_day, actions, cost_functions)\n",
        "\n",
        "plot_ctr(total_iterations, ctr)"
      ],
      "execution_count": 0,
      "outputs": [
        {
          "output_type": "display_data",
          "data": {
            "image/png": "[encoded data removed]",
            "text/plain": [
              "<Figure size 432x288 with 1 Axes>"
            ]
          },
          "metadata": {
            "tags": [],
            "needs_background": "light"
          }
        }
      ]
    }
  ]
}