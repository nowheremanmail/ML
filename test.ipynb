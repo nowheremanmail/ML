{
  "nbformat": 4,
  "nbformat_minor": 0,
  "metadata": {
    "colab": {
      "name": "Untitled0.ipynb",
      "provenance": [],
      "authorship_tag": "ABX9TyOqS31eYLKK9R5mSlBCkvoL",
      "include_colab_link": true
    },
    "kernelspec": {
      "name": "python3",
      "display_name": "Python 3"
    }
  },
  "cells": [
    {
      "cell_type": "markdown",
      "metadata": {
        "id": "view-in-github",
        "colab_type": "text"
      },
      "source": [
        "<a href=\"https://colab.research.google.com/github/nowheremanmail/ML/blob/master/test.ipynb\" target=\"_parent\"><img src=\"https://colab.research.google.com/assets/colab-badge.svg\" alt=\"Open In Colab\"/></a>"
      ]
    },
    {
      "cell_type": "code",
      "metadata": {
        "id": "uTSxtqLY3Add",
        "colab_type": "code",
        "colab": {
          "base_uri": "https://localhost:8080/",
          "height": 207
        },
        "outputId": "00feb27f-a679-4628-bf58-da5b4785fb17"
      },
      "source": [
        "!pip3 install vowpalwabbit"
      ],
      "execution_count": 1,
      "outputs": [
        {
          "output_type": "stream",
          "text": [
            "Collecting vowpalwabbit\n",
            "\u001b[?25l  Downloading https://files.pythonhosted.org/packages/26/65/833b79b0e968dfe988e7cea5ff730004d3b6cf05786228e94cf0b6037cf5/vowpalwabbit-8.8.1.tar.gz (3.1MB)\n",
            "\u001b[K     |████████████████████████████████| 3.1MB 2.8MB/s \n",
            "\u001b[?25hBuilding wheels for collected packages: vowpalwabbit\n",
            "  Building wheel for vowpalwabbit (setup.py) ... \u001b[?25l\u001b[?25hdone\n",
            "  Created wheel for vowpalwabbit: filename=vowpalwabbit-8.8.1-cp36-cp36m-linux_x86_64.whl size=1675349 sha256=6be7fad4bd0ee987ace6009329cb3c32caeb0418dfb8cd7a6e58ffcadf35d014\n",
            "  Stored in directory: /root/.cache/pip/wheels/17/41/59/fbefa702042c4a9ca33a87c7a3f49328bdfc664dd56466561b\n",
            "Successfully built vowpalwabbit\n",
            "Installing collected packages: vowpalwabbit\n",
            "Successfully installed vowpalwabbit-8.8.1\n"
          ],
          "name": "stdout"
        }
      ]
    },
    {
      "cell_type": "code",
      "metadata": {
        "id": "Wk0VkYyc3Cvg",
        "colab_type": "code",
        "colab": {}
      },
      "source": [
        "import pandas as pd\n",
        "import sklearn as sk\n",
        "import numpy as np\n",
        "import random\n",
        "import matplotlib.pyplot as plt\n",
        "from vowpalwabbit import pyvw"
      ],
      "execution_count": 0,
      "outputs": []
    },
    {
      "cell_type": "code",
      "metadata": {
        "id": "U7qxhg3W3q9r",
        "colab_type": "code",
        "colab": {}
      },
      "source": [
        "vw = pyvw.vw(\"--cb_explore_adf -q UA --quiet --epsilon 0.2\")"
      ],
      "execution_count": 0,
      "outputs": []
    },
    {
      "cell_type": "code",
      "metadata": {
        "id": "gBW3Exdu4XX-",
        "colab_type": "code",
        "colab": {
          "base_uri": "https://localhost:8080/",
          "height": 51
        },
        "outputId": "6e3414d6-7f1b-47c4-a19b-6ad9a2701f86"
      },
      "source": [
        "p1 = \"shared |Where=cerdanya When=h18 Session=working At=Sunday\\n\"+\\\n",
        "    \"A1 |Album Album1 |Artist Artist1 |Genre Genre1 |Year y1\\n\"+\\\n",
        "    \"A2 |Album Album2 |Artist Artist1 |Genre Genre1 |Year y2\\n\"+\\\n",
        "    \"A3 |Album Album3 |Artist Artist3 |Genre Genre3 |Year y3\\n\"+\\\n",
        "    \"A4 |Album Album4 |Artist Artist3 |Genre Genre4 |Year y4\\n\"+\\\n",
        "    \"A5 |Album Album5 |Artist Artist5 |Genre Genre5 |Year y5\"\n",
        "\n",
        "p1 = \"shared |Where=cerdanya When=h18 Session=working At=Sunday Album=Album1 Artist=Artist1 Genre=Genre1 Year=y1\\n\"+\\\n",
        "    \"S1 |Skip\\n\"+\\\n",
        "    \"P1 |Play\"\n",
        "\n",
        "pmf = vw.predict(p1)\n",
        "print (pmf)\n",
        "\n",
        "\n",
        "p2 = \"S1 |Skip\\n\"+\\\n",
        "    \"P1:-1 |Play\"\n",
        "\n",
        "vw_format = vw.parse(p2,pyvw.vw.lContextualBandit) \n",
        "vw.learn(vw_format)\n",
        "\n",
        "\n",
        "pmf = vw.predict(p1)\n",
        "print (pmf)"
      ],
      "execution_count": 66,
      "outputs": [
        {
          "output_type": "stream",
          "text": [
            "[0.5, 0.5]\n",
            "[0.10000000149011612, 0.9000000357627869]\n"
          ],
          "name": "stdout"
        }
      ]
    },
    {
      "cell_type": "code",
      "metadata": {
        "id": "e4UCqJsW56fw",
        "colab_type": "code",
        "colab": {
          "base_uri": "https://localhost:8080/",
          "height": 51
        },
        "outputId": "532ae0eb-6453-4f64-a540-8a813bac23e0"
      },
      "source": [
        "p1 = \"shared |Where=cerdanya When=h18 Session=working At=Sunday Album=Album3 Artist=Artist3 Genre=Genre3 Year=y3\\n\"+\\\n",
        "    \"S2 |Skip\\n\"+\\\n",
        "    \"P2 |Play\"\n",
        "\n",
        "pmf = vw.predict(p1)\n",
        "print (pmf)\n",
        "\n",
        "\n",
        "p2 = \"S2:-1 |Skip\\n\"+\\\n",
        "    \"P2 |Play\"\n",
        "\n",
        "vw_format = vw.parse(p2,pyvw.vw.lContextualBandit) \n",
        "vw.learn(vw_format)\n",
        "\n",
        "\n",
        "pmf = vw.predict(p1)\n",
        "print (pmf)"
      ],
      "execution_count": 67,
      "outputs": [
        {
          "output_type": "stream",
          "text": [
            "[0.10000000149011612, 0.9000000357627869]\n",
            "[0.10000000149011612, 0.9000000357627869]\n"
          ],
          "name": "stdout"
        }
      ]
    },
    {
      "cell_type": "code",
      "metadata": {
        "id": "ulGEDb35DQfz",
        "colab_type": "code",
        "colab": {
          "base_uri": "https://localhost:8080/",
          "height": 51
        },
        "outputId": "8f721e29-0608-402d-af06-55a54a87228f"
      },
      "source": [
        "p1 = \"shared |Where=cerdanya When=h18 Session=working At=Sunday Album=Album2 Artist=Artist1 Genre=Genre1 Year=y2\\n\"+\\\n",
        "    \"S3 |Skip\\n\"+\\\n",
        "    \"P3 |Play\"\n",
        "\n",
        "pmf = vw.predict(p1)\n",
        "print (pmf)\n",
        "\n",
        "\n",
        "p2 = \"S3:-1 |Skip\\n\"+\\\n",
        "    \"P3 |Play\"\n",
        "\n",
        "vw_format = vw.parse(p2,pyvw.vw.lContextualBandit) \n",
        "vw.learn(vw_format)\n",
        "\n",
        "\n",
        "pmf = vw.predict(p1)\n",
        "print (pmf)"
      ],
      "execution_count": 68,
      "outputs": [
        {
          "output_type": "stream",
          "text": [
            "[0.10000000149011612, 0.9000000357627869]\n",
            "[0.10000000149011612, 0.9000000357627869]\n"
          ],
          "name": "stdout"
        }
      ]
    },
    {
      "cell_type": "code",
      "metadata": {
        "id": "cG-D2jKwdgOu",
        "colab_type": "code",
        "colab": {
          "base_uri": "https://localhost:8080/",
          "height": 51
        },
        "outputId": "3974135b-348c-4a4d-8816-9e4d3fd6384c"
      },
      "source": [
        "p1 = \"shared |Where=cerdanya When=h18 Session=working At=Sunday Album=Album4 Artist=Artist3 Genre=Genre4 Year=y4\\n\"+\\\n",
        "    \"S4 |Skip\\n\"+\\\n",
        "    \"P4 |Play\"\n",
        "\n",
        "pmf = vw.predict(p1)\n",
        "print (pmf)\n",
        "\n",
        "\n",
        "p2 = \"S4:-1 |Skip\\n\"+\\\n",
        "    \"P4 |Play\"\n",
        "\n",
        "vw_format = vw.parse(p2,pyvw.vw.lContextualBandit) \n",
        "vw.learn(vw_format)\n",
        "\n",
        "\n",
        "pmf = vw.predict(p1)\n",
        "print (pmf)"
      ],
      "execution_count": 69,
      "outputs": [
        {
          "output_type": "stream",
          "text": [
            "[0.10000000149011612, 0.9000000357627869]\n",
            "[0.10000000149011612, 0.9000000357627869]\n"
          ],
          "name": "stdout"
        }
      ]
    },
    {
      "cell_type": "code",
      "metadata": {
        "id": "T_z9pGxgdrbB",
        "colab_type": "code",
        "colab": {
          "base_uri": "https://localhost:8080/",
          "height": 51
        },
        "outputId": "ebc52a54-6283-4984-f716-f0dba05830cb"
      },
      "source": [
        "p1 = \"shared |Where=cerdanya When=h18 Session=working At=Sunday Album=Album2 Artist=Artist1 Genre=Genre1 Year=y2\\n\"+\\\n",
        "    \"S5 |Skip\\n\"+\\\n",
        "    \"P5 |Play\"\n",
        "\n",
        "pmf = vw.predict(p1)\n",
        "print (pmf)\n",
        "\n",
        "\n",
        "p2 = \"S5:-1 |Skip\\n\"+\\\n",
        "    \"P5 |Play\"\n",
        "\n",
        "vw_format = vw.parse(p2,pyvw.vw.lContextualBandit) \n",
        "vw.learn(vw_format)\n",
        "\n",
        "\n",
        "pmf = vw.predict(p1)\n",
        "print (pmf)"
      ],
      "execution_count": 70,
      "outputs": [
        {
          "output_type": "stream",
          "text": [
            "[0.10000000149011612, 0.9000000357627869]\n",
            "[0.10000000149011612, 0.9000000357627869]\n"
          ],
          "name": "stdout"
        }
      ]
    }
  ]
}