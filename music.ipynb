{
  "nbformat": 4,
  "nbformat_minor": 0,
  "metadata": {
    "colab": {
      "name": "Untitled0.ipynb",
      "provenance": [],
      "authorship_tag": "ABX9TyN9E539SdW8d5Rt2haSRPOq",
      "include_colab_link": true
    },
    "kernelspec": {
      "name": "python3",
      "display_name": "Python 3"
    }
  },
  "cells": [
    {
      "cell_type": "markdown",
      "metadata": {
        "id": "view-in-github",
        "colab_type": "text"
      },
      "source": [
        "<a href=\"https://colab.research.google.com/github/nowheremanmail/ML/blob/master/music.ipynb\" target=\"_parent\"><img src=\"https://colab.research.google.com/assets/colab-badge.svg\" alt=\"Open In Colab\"/></a>"
      ]
    },
    {
      "cell_type": "code",
      "metadata": {
        "id": "uTSxtqLY3Add",
        "colab_type": "code",
        "outputId": "a8ee6d54-889b-4587-82d4-20af706c1529",
        "colab": {
          "base_uri": "https://localhost:8080/",
          "height": 207
        }
      },
      "source": [
        "!pip3 install vowpalwabbit"
      ],
      "execution_count": 2,
      "outputs": [
        {
          "output_type": "stream",
          "text": [
            "Collecting vowpalwabbit\n",
            "\u001b[?25l  Downloading https://files.pythonhosted.org/packages/26/65/833b79b0e968dfe988e7cea5ff730004d3b6cf05786228e94cf0b6037cf5/vowpalwabbit-8.8.1.tar.gz (3.1MB)\n",
            "\u001b[K     |████████████████████████████████| 3.1MB 2.7MB/s \n",
            "\u001b[?25hBuilding wheels for collected packages: vowpalwabbit\n",
            "  Building wheel for vowpalwabbit (setup.py) ... \u001b[?25l\u001b[?25hdone\n",
            "  Created wheel for vowpalwabbit: filename=vowpalwabbit-8.8.1-cp36-cp36m-linux_x86_64.whl size=1675349 sha256=b12c44544dd523be2d88b198e6f2f3f5ad1f06dc0f33b0b4ed1ff5a08664dc4a\n",
            "  Stored in directory: /root/.cache/pip/wheels/17/41/59/fbefa702042c4a9ca33a87c7a3f49328bdfc664dd56466561b\n",
            "Successfully built vowpalwabbit\n",
            "Installing collected packages: vowpalwabbit\n",
            "Successfully installed vowpalwabbit-8.8.1\n"
          ],
          "name": "stdout"
        }
      ]
    },
    {
      "cell_type": "code",
      "metadata": {
        "id": "Wk0VkYyc3Cvg",
        "colab_type": "code",
        "colab": {}
      },
      "source": [
        "import pandas as pd\n",
        "import sklearn as sk\n",
        "import numpy as np\n",
        "import random\n",
        "import matplotlib.pyplot as plt\n",
        "from vowpalwabbit import pyvw"
      ],
      "execution_count": 0,
      "outputs": []
    },
    {
      "cell_type": "code",
      "metadata": {
        "id": "U7qxhg3W3q9r",
        "colab_type": "code",
        "colab": {}
      },
      "source": [
        "vw = pyvw.vw(\"--cb_explore_adf -q UA  --epsilon 0.2\")"
      ],
      "execution_count": 0,
      "outputs": []
    },
    {
      "cell_type": "code",
      "metadata": {
        "id": "gBW3Exdu4XX-",
        "colab_type": "code",
        "outputId": "b0bdb130-c4bd-4b79-81dd-ea7313a9009a",
        "colab": {
          "base_uri": "https://localhost:8080/",
          "height": 51
        }
      },
      "source": [
        "p1 = \"shared | cerdanya h18 working Sunday\\n\"+\\\n",
        "    \"| rock 1960 led zepelin \\n\"+\\\n",
        "    \"| rock deep purple \\n\"+\\\n",
        "    \"| pop 1970 madona \\n\"+\\\n",
        "    \"| rock dire straits\"\n",
        "\n",
        "pmf = vw.predict(p1)\n",
        "print (pmf)\n",
        "\n",
        "p2 = \"shared | cerdanya h18 working Sunday\\n\"+\\\n",
        "    \"| rock 1960 led zepelin \\n\"+\\\n",
        "    \"| rock deep purple \\n\"+\\\n",
        "    \"0:1:0.25 | pop 1970 madona \\n\"+\\\n",
        "    \"| rock dire straits\"\n",
        "\n",
        "vw_format = vw.parse(p2,pyvw.vw.lContextualBandit) \n",
        "vw.learn(vw_format)\n",
        "\n",
        "pmf = vw.predict(p1)\n",
        "print (pmf)\n"
      ],
      "execution_count": 11,
      "outputs": [
        {
          "output_type": "stream",
          "text": [
            "[0.25, 0.25, 0.25, 0.25]\n",
            "[0.31666669249534607, 0.31666669249534607, 0.05000000074505806, 0.31666669249534607]\n"
          ],
          "name": "stdout"
        }
      ]
    },
    {
      "cell_type": "code",
      "metadata": {
        "id": "e4UCqJsW56fw",
        "colab_type": "code",
        "outputId": "ca859dc6-9f92-4664-cd38-c76401b64105",
        "colab": {
          "base_uri": "https://localhost:8080/",
          "height": 51
        }
      },
      "source": [
        "p1 = \"shared | cerdanya h18 working Sunday\\n\"+\\\n",
        "    \"| rock deep purple \\n\"+\\\n",
        "    \"| pop other \\n\"+\\\n",
        "    \"| rock dire straits \\n\"+\\\n",
        "    \"| rock stripes \\n\"\n",
        "\n",
        "pmf = vw.predict(p1)\n",
        "print (pmf)\n",
        "\n",
        "\n",
        "p2 = \"shared | cerdanya h18 working Sunday\\n\"+\\\n",
        "    \"| rock deep purple \\n\"+\\\n",
        "    \"0:-1:0.03 | pop other \\n\"+\\\n",
        "    \"| rock dire straits \\n\"+\\\n",
        "    \"| rock stripes \\n\"\n",
        "\n",
        "vw_format = vw.parse(p2,pyvw.vw.lContextualBandit) \n",
        "vw.learn(vw_format)\n",
        "\n",
        "pmf = vw.predict(p1)\n",
        "print (pmf)\n",
        "\n",
        "\n"
      ],
      "execution_count": 16,
      "outputs": [
        {
          "output_type": "stream",
          "text": [
            "[0.24000000953674316, 0.03999999910593033, 0.24000000953674316, 0.24000000953674316, 0.24000000953674316]\n",
            "[0.03999999910593033, 0.8400000333786011, 0.03999999910593033, 0.03999999910593033, 0.03999999910593033]\n"
          ],
          "name": "stdout"
        }
      ]
    },
    {
      "cell_type": "code",
      "metadata": {
        "id": "VqVcg7YHCj2z",
        "colab_type": "code",
        "colab": {
          "base_uri": "https://localhost:8080/",
          "height": 34
        },
        "outputId": "0a35908b-030d-46c5-f4d1-41b4034b56e1"
      },
      "source": [
        "p1 = \"shared | cerdanya h18 working Sunday\\n\"+\\\n",
        "    \"| rock 1960 led zepelin \\n\"+\\\n",
        "    \"| rock deep purple \\n\"+\\\n",
        "    \"| pop 1970 madona \\n\"+\\\n",
        "    \"| rock dire straits\"\n",
        "pmf = vw.predict(p1)\n",
        "print (pmf)\n"
      ],
      "execution_count": 17,
      "outputs": [
        {
          "output_type": "stream",
          "text": [
            "[0.31666669249534607, 0.31666669249534607, 0.05000000074505806, 0.31666669249534607]\n"
          ],
          "name": "stdout"
        }
      ]
    }
  ]
}